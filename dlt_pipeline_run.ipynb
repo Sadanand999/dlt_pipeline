{
 "cells": [
  {
   "cell_type": "code",
   "execution_count": 1,
   "id": "7f88bdbb",
   "metadata": {},
   "outputs": [
    {
     "name": "stdout",
     "output_type": "stream",
     "text": [
      "Requirement already satisfied: dlt in c:\\users\\srinivas kothapalli\\anaconda3\\lib\\site-packages (0.3.23)\n",
      "Requirement already satisfied: PyYAML>=5.4.1 in c:\\users\\srinivas kothapalli\\anaconda3\\lib\\site-packages (from dlt) (6.0.1)\n",
      "Requirement already satisfied: SQLAlchemy>=1.4.0 in c:\\users\\srinivas kothapalli\\anaconda3\\lib\\site-packages (from dlt) (2.0.21)\n",
      "Requirement already satisfied: astunparse>=1.6.3 in c:\\users\\srinivas kothapalli\\anaconda3\\lib\\site-packages (from dlt) (1.6.3)\n",
      "Requirement already satisfied: click>=7.1 in c:\\users\\srinivas kothapalli\\anaconda3\\lib\\site-packages (from dlt) (8.1.7)\n",
      "Requirement already satisfied: deprecated>=1.2.9 in c:\\users\\srinivas kothapalli\\anaconda3\\lib\\site-packages (from dlt) (1.2.14)\n",
      "Requirement already satisfied: fsspec>=2022.4.0 in c:\\users\\srinivas kothapalli\\anaconda3\\lib\\site-packages (from dlt) (2023.4.0)\n",
      "Requirement already satisfied: gitpython>=3.1.29 in c:\\users\\srinivas kothapalli\\anaconda3\\lib\\site-packages (from dlt) (3.1.40)\n",
      "Requirement already satisfied: giturlparse>=0.10.0 in c:\\users\\srinivas kothapalli\\anaconda3\\lib\\site-packages (from dlt) (0.12.0)\n",
      "Requirement already satisfied: hexbytes>=0.2.2 in c:\\users\\srinivas kothapalli\\anaconda3\\lib\\site-packages (from dlt) (0.3.1)\n",
      "Requirement already satisfied: humanize>=4.4.0 in c:\\users\\srinivas kothapalli\\anaconda3\\lib\\site-packages (from dlt) (4.8.0)\n",
      "Requirement already satisfied: jsonpath-ng>=1.5.3 in c:\\users\\srinivas kothapalli\\anaconda3\\lib\\site-packages (from dlt) (1.6.0)\n",
      "Requirement already satisfied: makefun>=1.15.0 in c:\\users\\srinivas kothapalli\\anaconda3\\lib\\site-packages (from dlt) (1.15.1)\n",
      "Requirement already satisfied: orjson>=3.6.7 in c:\\users\\srinivas kothapalli\\anaconda3\\lib\\site-packages (from dlt) (3.9.10)\n",
      "Requirement already satisfied: packaging>=21.1 in c:\\users\\srinivas kothapalli\\anaconda3\\lib\\site-packages (from dlt) (23.1)\n",
      "Requirement already satisfied: pathvalidate>=2.5.2 in c:\\users\\srinivas kothapalli\\anaconda3\\lib\\site-packages (from dlt) (3.2.0)\n",
      "Requirement already satisfied: pendulum>=2.1.2 in c:\\users\\srinivas kothapalli\\anaconda3\\lib\\site-packages (from dlt) (2.1.2)\n",
      "Requirement already satisfied: pytz>=2022.6 in c:\\users\\srinivas kothapalli\\anaconda3\\lib\\site-packages (from dlt) (2023.3.post1)\n",
      "Requirement already satisfied: requests>=2.26.0 in c:\\users\\srinivas kothapalli\\anaconda3\\lib\\site-packages (from dlt) (2.31.0)\n",
      "Requirement already satisfied: requirements-parser>=0.5.0 in c:\\users\\srinivas kothapalli\\anaconda3\\lib\\site-packages (from dlt) (0.5.0)\n",
      "Requirement already satisfied: semver>=2.13.0 in c:\\users\\srinivas kothapalli\\anaconda3\\lib\\site-packages (from dlt) (2.13.0)\n",
      "Requirement already satisfied: setuptools>=65.6.0 in c:\\users\\srinivas kothapalli\\anaconda3\\lib\\site-packages (from dlt) (68.0.0)\n",
      "Requirement already satisfied: simplejson>=3.17.5 in c:\\users\\srinivas kothapalli\\anaconda3\\lib\\site-packages (from dlt) (3.19.2)\n",
      "Requirement already satisfied: tenacity>=8.0.2 in c:\\users\\srinivas kothapalli\\anaconda3\\lib\\site-packages (from dlt) (8.2.2)\n",
      "Requirement already satisfied: tomlkit>=0.11.3 in c:\\users\\srinivas kothapalli\\anaconda3\\lib\\site-packages (from dlt) (0.12.1)\n",
      "Requirement already satisfied: typing-extensions>=4.0.0 in c:\\users\\srinivas kothapalli\\anaconda3\\lib\\site-packages (from dlt) (4.7.1)\n",
      "Requirement already satisfied: tzdata>=2022.1 in c:\\users\\srinivas kothapalli\\anaconda3\\lib\\site-packages (from dlt) (2023.3)\n",
      "Requirement already satisfied: wheel<1.0,>=0.23.0 in c:\\users\\srinivas kothapalli\\anaconda3\\lib\\site-packages (from astunparse>=1.6.3->dlt) (0.41.2)\n",
      "Requirement already satisfied: six<2.0,>=1.6.1 in c:\\users\\srinivas kothapalli\\anaconda3\\lib\\site-packages (from astunparse>=1.6.3->dlt) (1.16.0)\n",
      "Requirement already satisfied: colorama in c:\\users\\srinivas kothapalli\\anaconda3\\lib\\site-packages (from click>=7.1->dlt) (0.4.6)\n",
      "Requirement already satisfied: wrapt<2,>=1.10 in c:\\users\\srinivas kothapalli\\anaconda3\\lib\\site-packages (from deprecated>=1.2.9->dlt) (1.14.1)\n",
      "Requirement already satisfied: gitdb<5,>=4.0.1 in c:\\users\\srinivas kothapalli\\anaconda3\\lib\\site-packages (from gitpython>=3.1.29->dlt) (4.0.11)\n",
      "Requirement already satisfied: ply in c:\\users\\srinivas kothapalli\\anaconda3\\lib\\site-packages (from jsonpath-ng>=1.5.3->dlt) (3.11)\n",
      "Requirement already satisfied: python-dateutil<3.0,>=2.6 in c:\\users\\srinivas kothapalli\\anaconda3\\lib\\site-packages (from pendulum>=2.1.2->dlt) (2.8.2)\n",
      "Requirement already satisfied: pytzdata>=2020.1 in c:\\users\\srinivas kothapalli\\anaconda3\\lib\\site-packages (from pendulum>=2.1.2->dlt) (2020.1)\n",
      "Requirement already satisfied: charset-normalizer<4,>=2 in c:\\users\\srinivas kothapalli\\anaconda3\\lib\\site-packages (from requests>=2.26.0->dlt) (2.0.4)\n",
      "Requirement already satisfied: idna<4,>=2.5 in c:\\users\\srinivas kothapalli\\anaconda3\\lib\\site-packages (from requests>=2.26.0->dlt) (3.4)\n",
      "Requirement already satisfied: urllib3<3,>=1.21.1 in c:\\users\\srinivas kothapalli\\anaconda3\\lib\\site-packages (from requests>=2.26.0->dlt) (1.26.18)\n",
      "Requirement already satisfied: certifi>=2017.4.17 in c:\\users\\srinivas kothapalli\\anaconda3\\lib\\site-packages (from requests>=2.26.0->dlt) (2023.7.22)\n",
      "Requirement already satisfied: types-setuptools>=57.0.0 in c:\\users\\srinivas kothapalli\\anaconda3\\lib\\site-packages (from requirements-parser>=0.5.0->dlt) (68.2.0.0)\n",
      "Requirement already satisfied: greenlet!=0.4.17 in c:\\users\\srinivas kothapalli\\anaconda3\\lib\\site-packages (from SQLAlchemy>=1.4.0->dlt) (2.0.1)\n",
      "Requirement already satisfied: smmap<6,>=3.0.1 in c:\\users\\srinivas kothapalli\\anaconda3\\lib\\site-packages (from gitdb<5,>=4.0.1->gitpython>=3.1.29->dlt) (5.0.1)\n"
     ]
    }
   ],
   "source": [
    "! pip install -U dlt"
   ]
  },
  {
   "cell_type": "code",
   "execution_count": 2,
   "id": "80feb0e1",
   "metadata": {},
   "outputs": [
    {
     "name": "stdout",
     "output_type": "stream",
     "text": [
      "Requirement already satisfied: dlt[duckdb] in c:\\users\\srinivas kothapalli\\anaconda3\\lib\\site-packages (0.3.23)\n",
      "Requirement already satisfied: PyYAML>=5.4.1 in c:\\users\\srinivas kothapalli\\anaconda3\\lib\\site-packages (from dlt[duckdb]) (6.0.1)\n",
      "Requirement already satisfied: SQLAlchemy>=1.4.0 in c:\\users\\srinivas kothapalli\\anaconda3\\lib\\site-packages (from dlt[duckdb]) (2.0.21)\n",
      "Requirement already satisfied: astunparse>=1.6.3 in c:\\users\\srinivas kothapalli\\anaconda3\\lib\\site-packages (from dlt[duckdb]) (1.6.3)\n",
      "Requirement already satisfied: click>=7.1 in c:\\users\\srinivas kothapalli\\anaconda3\\lib\\site-packages (from dlt[duckdb]) (8.1.7)\n",
      "Requirement already satisfied: deprecated>=1.2.9 in c:\\users\\srinivas kothapalli\\anaconda3\\lib\\site-packages (from dlt[duckdb]) (1.2.14)\n",
      "Requirement already satisfied: duckdb<0.10.0,>=0.6.1 in c:\\users\\srinivas kothapalli\\anaconda3\\lib\\site-packages (from dlt[duckdb]) (0.9.1)\n",
      "Requirement already satisfied: fsspec>=2022.4.0 in c:\\users\\srinivas kothapalli\\anaconda3\\lib\\site-packages (from dlt[duckdb]) (2023.4.0)\n",
      "Requirement already satisfied: gitpython>=3.1.29 in c:\\users\\srinivas kothapalli\\anaconda3\\lib\\site-packages (from dlt[duckdb]) (3.1.40)\n",
      "Requirement already satisfied: giturlparse>=0.10.0 in c:\\users\\srinivas kothapalli\\anaconda3\\lib\\site-packages (from dlt[duckdb]) (0.12.0)\n",
      "Requirement already satisfied: hexbytes>=0.2.2 in c:\\users\\srinivas kothapalli\\anaconda3\\lib\\site-packages (from dlt[duckdb]) (0.3.1)\n",
      "Requirement already satisfied: humanize>=4.4.0 in c:\\users\\srinivas kothapalli\\anaconda3\\lib\\site-packages (from dlt[duckdb]) (4.8.0)\n",
      "Requirement already satisfied: jsonpath-ng>=1.5.3 in c:\\users\\srinivas kothapalli\\anaconda3\\lib\\site-packages (from dlt[duckdb]) (1.6.0)\n",
      "Requirement already satisfied: makefun>=1.15.0 in c:\\users\\srinivas kothapalli\\anaconda3\\lib\\site-packages (from dlt[duckdb]) (1.15.1)\n",
      "Requirement already satisfied: orjson>=3.6.7 in c:\\users\\srinivas kothapalli\\anaconda3\\lib\\site-packages (from dlt[duckdb]) (3.9.10)\n",
      "Requirement already satisfied: packaging>=21.1 in c:\\users\\srinivas kothapalli\\anaconda3\\lib\\site-packages (from dlt[duckdb]) (23.1)\n",
      "Requirement already satisfied: pathvalidate>=2.5.2 in c:\\users\\srinivas kothapalli\\anaconda3\\lib\\site-packages (from dlt[duckdb]) (3.2.0)\n",
      "Requirement already satisfied: pendulum>=2.1.2 in c:\\users\\srinivas kothapalli\\anaconda3\\lib\\site-packages (from dlt[duckdb]) (2.1.2)\n",
      "Requirement already satisfied: pytz>=2022.6 in c:\\users\\srinivas kothapalli\\anaconda3\\lib\\site-packages (from dlt[duckdb]) (2023.3.post1)\n",
      "Requirement already satisfied: requests>=2.26.0 in c:\\users\\srinivas kothapalli\\anaconda3\\lib\\site-packages (from dlt[duckdb]) (2.31.0)\n",
      "Requirement already satisfied: requirements-parser>=0.5.0 in c:\\users\\srinivas kothapalli\\anaconda3\\lib\\site-packages (from dlt[duckdb]) (0.5.0)\n",
      "Requirement already satisfied: semver>=2.13.0 in c:\\users\\srinivas kothapalli\\anaconda3\\lib\\site-packages (from dlt[duckdb]) (2.13.0)\n",
      "Requirement already satisfied: setuptools>=65.6.0 in c:\\users\\srinivas kothapalli\\anaconda3\\lib\\site-packages (from dlt[duckdb]) (68.0.0)\n",
      "Requirement already satisfied: simplejson>=3.17.5 in c:\\users\\srinivas kothapalli\\anaconda3\\lib\\site-packages (from dlt[duckdb]) (3.19.2)\n",
      "Requirement already satisfied: tenacity>=8.0.2 in c:\\users\\srinivas kothapalli\\anaconda3\\lib\\site-packages (from dlt[duckdb]) (8.2.2)\n",
      "Requirement already satisfied: tomlkit>=0.11.3 in c:\\users\\srinivas kothapalli\\anaconda3\\lib\\site-packages (from dlt[duckdb]) (0.12.1)\n",
      "Requirement already satisfied: typing-extensions>=4.0.0 in c:\\users\\srinivas kothapalli\\anaconda3\\lib\\site-packages (from dlt[duckdb]) (4.7.1)\n",
      "Requirement already satisfied: tzdata>=2022.1 in c:\\users\\srinivas kothapalli\\anaconda3\\lib\\site-packages (from dlt[duckdb]) (2023.3)\n",
      "Requirement already satisfied: wheel<1.0,>=0.23.0 in c:\\users\\srinivas kothapalli\\anaconda3\\lib\\site-packages (from astunparse>=1.6.3->dlt[duckdb]) (0.41.2)\n",
      "Requirement already satisfied: six<2.0,>=1.6.1 in c:\\users\\srinivas kothapalli\\anaconda3\\lib\\site-packages (from astunparse>=1.6.3->dlt[duckdb]) (1.16.0)\n",
      "Requirement already satisfied: colorama in c:\\users\\srinivas kothapalli\\anaconda3\\lib\\site-packages (from click>=7.1->dlt[duckdb]) (0.4.6)\n",
      "Requirement already satisfied: wrapt<2,>=1.10 in c:\\users\\srinivas kothapalli\\anaconda3\\lib\\site-packages (from deprecated>=1.2.9->dlt[duckdb]) (1.14.1)\n",
      "Requirement already satisfied: gitdb<5,>=4.0.1 in c:\\users\\srinivas kothapalli\\anaconda3\\lib\\site-packages (from gitpython>=3.1.29->dlt[duckdb]) (4.0.11)\n",
      "Requirement already satisfied: ply in c:\\users\\srinivas kothapalli\\anaconda3\\lib\\site-packages (from jsonpath-ng>=1.5.3->dlt[duckdb]) (3.11)\n",
      "Requirement already satisfied: python-dateutil<3.0,>=2.6 in c:\\users\\srinivas kothapalli\\anaconda3\\lib\\site-packages (from pendulum>=2.1.2->dlt[duckdb]) (2.8.2)\n",
      "Requirement already satisfied: pytzdata>=2020.1 in c:\\users\\srinivas kothapalli\\anaconda3\\lib\\site-packages (from pendulum>=2.1.2->dlt[duckdb]) (2020.1)\n",
      "Requirement already satisfied: charset-normalizer<4,>=2 in c:\\users\\srinivas kothapalli\\anaconda3\\lib\\site-packages (from requests>=2.26.0->dlt[duckdb]) (2.0.4)\n",
      "Requirement already satisfied: idna<4,>=2.5 in c:\\users\\srinivas kothapalli\\anaconda3\\lib\\site-packages (from requests>=2.26.0->dlt[duckdb]) (3.4)\n",
      "Requirement already satisfied: urllib3<3,>=1.21.1 in c:\\users\\srinivas kothapalli\\anaconda3\\lib\\site-packages (from requests>=2.26.0->dlt[duckdb]) (1.26.18)\n",
      "Requirement already satisfied: certifi>=2017.4.17 in c:\\users\\srinivas kothapalli\\anaconda3\\lib\\site-packages (from requests>=2.26.0->dlt[duckdb]) (2023.7.22)\n",
      "Requirement already satisfied: types-setuptools>=57.0.0 in c:\\users\\srinivas kothapalli\\anaconda3\\lib\\site-packages (from requirements-parser>=0.5.0->dlt[duckdb]) (68.2.0.0)\n",
      "Requirement already satisfied: greenlet!=0.4.17 in c:\\users\\srinivas kothapalli\\anaconda3\\lib\\site-packages (from SQLAlchemy>=1.4.0->dlt[duckdb]) (2.0.1)\n",
      "Requirement already satisfied: smmap<6,>=3.0.1 in c:\\users\\srinivas kothapalli\\anaconda3\\lib\\site-packages (from gitdb<5,>=4.0.1->gitpython>=3.1.29->dlt[duckdb]) (5.0.1)\n"
     ]
    }
   ],
   "source": [
    "!pip install \"dlt[duckdb]\""
   ]
  },
  {
   "cell_type": "code",
   "execution_count": 4,
   "id": "03c72607",
   "metadata": {},
   "outputs": [
    {
     "data": {
      "text/plain": [
       "LoadInfo(pipeline=<dlt.pipeline.pipeline.Pipeline object at 0x0000023F9D4C3F90>, destination_name='duckdb', destination_displayable_credentials='duckdb:///C:\\\\Users\\\\srinivas kothapalli\\\\anaconda3\\\\dlt_ipykernel_launcher.duckdb', staging_name=None, staging_displayable_credentials=None, destination_fingerprint='', dataset_name='mydata', loads_ids=['1698996119.580089'], load_packages=[LoadPackageInfo(load_id='1698996119.580089', package_path='C:\\\\Users\\\\srinivas kothapalli\\\\.dlt\\\\pipelines\\\\dlt_ipykernel_launcher\\\\load\\\\loaded\\\\1698996119.580089', state='loaded', schema_name='dlt_ipykernel_launcher', schema_update={}, completed_at=DateTime(2023, 11, 3, 7, 22, 0, 735739, tzinfo=Timezone('UTC')), jobs={'failed_jobs': [], 'started_jobs': [], 'new_jobs': [], 'completed_jobs': [LoadJobInfo(state='completed_jobs', file_path='C:\\\\Users\\\\srinivas kothapalli\\\\.dlt\\\\pipelines\\\\dlt_ipykernel_launcher\\\\load\\\\loaded\\\\1698996119.580089\\\\completed_jobs\\\\users.f35a649e00.0.insert_values', file_size=160, created_at=DateTime(2023, 11, 3, 7, 21, 59, 675235, tzinfo=Timezone('UTC')), elapsed=1.06050443649292, job_file_info=ParsedLoadJobFileName(table_name='users', file_id='f35a649e00', retry_count=0, file_format='insert_values'), failed_message=None)]})], started_at=DateTime(2023, 11, 3, 7, 21, 59, 329935, tzinfo=Timezone('UTC')), first_run=False)"
      ]
     },
     "execution_count": 4,
     "metadata": {},
     "output_type": "execute_result"
    }
   ],
   "source": [
    "import dlt\n",
    "\n",
    "dlt.pipeline(destination='duckdb', dataset_name='mydata').run([{'id': 1, 'name': 'John'}], table_name=\"users\")"
   ]
  },
  {
   "cell_type": "code",
   "execution_count": 5,
   "id": "224be93d",
   "metadata": {},
   "outputs": [
    {
     "name": "stdout",
     "output_type": "stream",
     "text": [
      "Pipeline dlt_ipykernel_launcher completed in 1.83 seconds\n",
      "1 load package(s) were loaded to destination duckdb and into dataset country_data\n",
      "The duckdb destination used duckdb:///C:\\Users\\srinivas kothapalli\\anaconda3\\dlt_ipykernel_launcher.duckdb location to store data\n",
      "Load package 1698996121.235189 is LOADED and contains no failed jobs\n"
     ]
    }
   ],
   "source": [
    "pipeline = dlt.pipeline(destination=\"duckdb\", dataset_name=\"country_data\")\n",
    "\n",
    "data = [\n",
    "    {'country': 'USA', 'population': 331449281, 'capital': 'Washington, D.C.'},\n",
    "    {'country': 'Canada', 'population': 38005238, 'capital': 'Ottawa'},\n",
    "    {'country': 'Germany', 'population': 83019200, 'capital': 'Berlin'}\n",
    "]\n",
    "\n",
    "info = pipeline.run(data, table_name=\"countries\")\n",
    "\n",
    "print(info)"
   ]
  },
  {
   "cell_type": "code",
   "execution_count": 6,
   "id": "d79c81f6",
   "metadata": {},
   "outputs": [],
   "source": [
    "import dlt\n",
    "\n",
    "# have data? dlt likes data\n",
    "data = [{'id': 1, 'name': 'John'}]\n",
    "\n",
    "# open connection\n",
    "pipeline = dlt.pipeline(\n",
    "    destination='duckdb',\n",
    "    dataset_name='raw_data'\n",
    ")\n",
    "\n",
    "# Upsert/merge: Update old records, insert new\n",
    "load_info = pipeline.run(\n",
    "    data,\n",
    "    write_disposition=\"merge\",\n",
    "    primary_key=\"id\",\n",
    "    table_name=\"users\"\n",
    ")"
   ]
  },
  {
   "cell_type": "code",
   "execution_count": 7,
   "id": "7d74d188",
   "metadata": {},
   "outputs": [],
   "source": [
    "import os\n",
    "os.environ['GIT_PYTHON_REFRESH'] = 'quiet'"
   ]
  },
  {
   "cell_type": "code",
   "execution_count": null,
   "id": "3488c9d6",
   "metadata": {},
   "outputs": [],
   "source": []
  },
  {
   "cell_type": "code",
   "execution_count": null,
   "id": "efa743ab",
   "metadata": {},
   "outputs": [],
   "source": [
    "C:\\Users\\srinivas kothapalli\\Downloads"
   ]
  },
  {
   "cell_type": "code",
   "execution_count": 9,
   "id": "634d511b",
   "metadata": {},
   "outputs": [],
   "source": [
    "#C:\\Users\\srinivas kothapalli\\Desktop\\my_project_sadanand\n",
    "import os\n",
    "os.environ['GIT_PYTHON_GIT_EXECUTABLE'] = 'C:\\Program Files\\Git\\cmd\\git.exe'"
   ]
  },
  {
   "cell_type": "code",
   "execution_count": 10,
   "id": "875a59b3",
   "metadata": {},
   "outputs": [],
   "source": [
    "import git\n",
    "git.refresh()"
   ]
  },
  {
   "cell_type": "code",
   "execution_count": 11,
   "id": "6108fc59",
   "metadata": {},
   "outputs": [
    {
     "data": {
      "text/plain": [
       "LoadInfo(pipeline=<dlt.pipeline.pipeline.Pipeline object at 0x0000023F9F04F690>, destination_name='duckdb', destination_displayable_credentials='duckdb:///C:\\\\Users\\\\srinivas kothapalli\\\\anaconda3\\\\dlt_ipykernel_launcher.duckdb', staging_name=None, staging_displayable_credentials=None, destination_fingerprint='', dataset_name='raw_data', loads_ids=['1698996177.20831'], load_packages=[LoadPackageInfo(load_id='1698996177.20831', package_path='C:\\\\Users\\\\srinivas kothapalli\\\\.dlt\\\\pipelines\\\\dlt_ipykernel_launcher\\\\load\\\\loaded\\\\1698996177.20831', state='loaded', schema_name='dlt_ipykernel_launcher', schema_update={}, completed_at=DateTime(2023, 11, 3, 7, 22, 58, 308798, tzinfo=Timezone('UTC')), jobs={'failed_jobs': [], 'started_jobs': [], 'new_jobs': [], 'completed_jobs': [LoadJobInfo(state='completed_jobs', file_path='C:\\\\Users\\\\srinivas kothapalli\\\\.dlt\\\\pipelines\\\\dlt_ipykernel_launcher\\\\load\\\\loaded\\\\1698996177.20831\\\\completed_jobs\\\\transform_status.82076ff2ce.0.insert_values', file_size=362, created_at=DateTime(2023, 11, 3, 7, 22, 57, 318019, tzinfo=Timezone('UTC')), elapsed=0.990778923034668, job_file_info=ParsedLoadJobFileName(table_name='transform_status', file_id='82076ff2ce', retry_count=0, file_format='insert_values'), failed_message=None)]})], started_at=DateTime(2023, 11, 3, 7, 22, 57, 82646, tzinfo=Timezone('UTC')), first_run=False)"
      ]
     },
     "execution_count": 11,
     "metadata": {},
     "output_type": "execute_result"
    }
   ],
   "source": [
    "venv = dlt.dbt.get_venv(pipeline)\n",
    "dbt = dlt.dbt.package(\n",
    "    pipeline,\n",
    "    \"https://github.com/dbt-labs/jaffle_shop.git\",\n",
    "    venv=venv\n",
    ")\n",
    "models_info = dbt.run_all()\n",
    "\n",
    "# Load metadata for monitoring and load package lineage.\n",
    "# This allows for both row and column level lineage,\n",
    "# as it contains schema update info linked to the loaded data\n",
    "pipeline.run([load_info], table_name=\"loading_status\", write_disposition='append')\n",
    "pipeline.run([models_info], table_name=\"transform_status\", write_disposition='append')"
   ]
  },
  {
   "cell_type": "code",
   "execution_count": 12,
   "id": "23ab49ba",
   "metadata": {},
   "outputs": [],
   "source": [
    "from dlt.common.runtime.slack import send_slack_message\n",
    "\n",
    "slack_hook = \"https://hooks.slack.com/services/xxx/xxx/xxx\"\n",
    "\n",
    "for package in load_info.load_packages:\n",
    "    for table_name, table in package.schema_update.items():\n",
    "        for column_name, column in table[\"columns\"].items():\n",
    "            send_slack_message(\n",
    "                slack_hook,\n",
    "                message=f\"\\tTable updated: {table_name}: Column changed: {column_name}: {column['data_type']}\"\n",
    "            )"
   ]
  },
  {
   "cell_type": "code",
   "execution_count": 13,
   "id": "cfdd4910",
   "metadata": {},
   "outputs": [],
   "source": [
    "@dlt.resource(primary_key=\"id\", write_disposition=\"merge\")\n",
    "def github_repo_events():\n",
    "    yield from _get_event_pages()"
   ]
  },
  {
   "cell_type": "code",
   "execution_count": null,
   "id": "5e26d871",
   "metadata": {},
   "outputs": [],
   "source": []
  }
 ],
 "metadata": {
  "kernelspec": {
   "display_name": "Python 3 (ipykernel)",
   "language": "python",
   "name": "python3"
  },
  "language_info": {
   "codemirror_mode": {
    "name": "ipython",
    "version": 3
   },
   "file_extension": ".py",
   "mimetype": "text/x-python",
   "name": "python",
   "nbconvert_exporter": "python",
   "pygments_lexer": "ipython3",
   "version": "3.11.5"
  }
 },
 "nbformat": 4,
 "nbformat_minor": 5
}
